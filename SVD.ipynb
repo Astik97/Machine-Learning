{
 "cells": [
  {
   "cell_type": "code",
   "execution_count": 1,
   "id": "e993f121-3d11-423b-aa44-059523813a8e",
   "metadata": {},
   "outputs": [
    {
     "data": {
      "text/html": [
       "<div>\n",
       "<style scoped>\n",
       "    .dataframe tbody tr th:only-of-type {\n",
       "        vertical-align: middle;\n",
       "    }\n",
       "\n",
       "    .dataframe tbody tr th {\n",
       "        vertical-align: top;\n",
       "    }\n",
       "\n",
       "    .dataframe thead th {\n",
       "        text-align: right;\n",
       "    }\n",
       "</style>\n",
       "<table border=\"1\" class=\"dataframe\">\n",
       "  <thead>\n",
       "    <tr style=\"text-align: right;\">\n",
       "      <th></th>\n",
       "      <th>post 1</th>\n",
       "      <th>post 2</th>\n",
       "      <th>post 3</th>\n",
       "      <th>post 4</th>\n",
       "    </tr>\n",
       "    <tr>\n",
       "      <th>word:</th>\n",
       "      <th></th>\n",
       "      <th></th>\n",
       "      <th></th>\n",
       "      <th></th>\n",
       "    </tr>\n",
       "  </thead>\n",
       "  <tbody>\n",
       "    <tr>\n",
       "      <th>ice</th>\n",
       "      <td>4</td>\n",
       "      <td>4</td>\n",
       "      <td>6</td>\n",
       "      <td>3</td>\n",
       "    </tr>\n",
       "    <tr>\n",
       "      <th>snow</th>\n",
       "      <td>6</td>\n",
       "      <td>1</td>\n",
       "      <td>0</td>\n",
       "      <td>5</td>\n",
       "    </tr>\n",
       "    <tr>\n",
       "      <th>sunny</th>\n",
       "      <td>3</td>\n",
       "      <td>0</td>\n",
       "      <td>0</td>\n",
       "      <td>5</td>\n",
       "    </tr>\n",
       "    <tr>\n",
       "      <th>hot</th>\n",
       "      <td>0</td>\n",
       "      <td>6</td>\n",
       "      <td>5</td>\n",
       "      <td>1</td>\n",
       "    </tr>\n",
       "  </tbody>\n",
       "</table>\n",
       "</div>"
      ],
      "text/plain": [
       "       post 1  post 2  post 3  post 4\n",
       "word:                                \n",
       "ice         4       4       6       3\n",
       "snow        6       1       0       5\n",
       "sunny       3       0       0       5\n",
       "hot         0       6       5       1"
      ]
     },
     "execution_count": 1,
     "metadata": {},
     "output_type": "execute_result"
    }
   ],
   "source": [
    "import pandas as pd\n",
    "c_name=['post 1','post 2','post 3','post 4']\n",
    "word=['ice','snow','sunny','hot']\n",
    "post_word=pd.DataFrame([[4,4,6,3],\n",
    "                       [6,1,0,5],\n",
    "                       [3,0,0,5],\n",
    "                       [0,6,5,1]],index=word,columns=c_name)\n",
    "post_word.index.names=['word:']\n",
    "post_word"
   ]
  },
  {
   "cell_type": "code",
   "execution_count": 3,
   "id": "d6a568b2-7479-4949-b045-9b45ea3ce8ea",
   "metadata": {},
   "outputs": [
    {
     "name": "stdout",
     "output_type": "stream",
     "text": [
      "[[-0.5 -0.5 -0.5 -0.5]\n",
      " [-0.5  0.5  0.5 -0.5]\n",
      " [ 0.6 -0.4  0.4 -0.6]\n",
      " [ 0.4  0.6 -0.5 -0.4]]\n"
     ]
    }
   ],
   "source": [
    "import numpy as np\n",
    "U,sigma,V=np.linalg.svd(post_word)\n",
    "print(np.round(V,decimals=1))"
   ]
  },
  {
   "cell_type": "code",
   "execution_count": 5,
   "id": "a64e602e-72dd-4226-87f6-f5d093a6fe84",
   "metadata": {},
   "outputs": [
    {
     "data": {
      "text/plain": [
       "array([12.66655535,  8.25917052,  2.05585368,  1.45531558])"
      ]
     },
     "execution_count": 5,
     "metadata": {},
     "output_type": "execute_result"
    }
   ],
   "source": [
    "sigma"
   ]
  },
  {
   "cell_type": "code",
   "execution_count": 7,
   "id": "d59be12d-3782-48f2-aa08-1f5c5a8f12e6",
   "metadata": {},
   "outputs": [
    {
     "name": "stdout",
     "output_type": "stream",
     "text": [
      "         post 1    post 2    post 3    post 4\n",
      "ice    3.505103  4.856034  5.208254  3.487800\n",
      "snow   5.532789  0.500993  0.458926  5.478988\n",
      "sunny  4.014777  0.032083 -0.026111  3.974512\n",
      "hot    0.495525  5.256554  5.687839  0.509975\n"
     ]
    }
   ],
   "source": [
    "A_approx=np.matrix(U[:,:2])*np.diag(sigma[:2])*np.matrix(V[:2,:])\n",
    "print(pd.DataFrame(A_approx,index=word,columns=c_name))"
   ]
  },
  {
   "cell_type": "code",
   "execution_count": 9,
   "id": "4c80d932-859e-4fac-814a-c7cc2c8a1518",
   "metadata": {},
   "outputs": [
    {
     "name": "stdout",
     "output_type": "stream",
     "text": [
      "         post 1    post 2    post 3    post 4\n",
      "word:                                        \n",
      "ice    0.494897 -0.856034  0.791746 -0.487800\n",
      "snow   0.467211  0.499007 -0.458926 -0.478988\n",
      "sunny -1.014777 -0.032083  0.026111  1.025488\n",
      "hot   -0.495525  0.743446 -0.687839  0.490025\n"
     ]
    }
   ],
   "source": [
    "print(post_word-A_approx)"
   ]
  },
  {
   "cell_type": "code",
   "execution_count": 16,
   "id": "d94e6e6f-d989-436a-82e7-48384706103d",
   "metadata": {},
   "outputs": [
    {
     "data": {
      "image/png": "[encoded data removed]",
      "text/plain": [
       "<Figure size 640x480 with 2 Axes>"
      ]
     },
     "metadata": {},
     "output_type": "display_data"
    }
   ],
   "source": [
    "import matplotlib.pyplot as plt\n",
    "plt.imshow(V,interpolation='none')\n",
    "plt.xticks(range(len(c_name)))\n",
    "plt.yticks(range(len(word)))\n",
    "plt.ylim([len(word)-1.5,-0.6])\n",
    "ax=plt.gca()\n",
    "ax.set_xticklabels(c_name)\n",
    "ax.set_yticklabels(range(1,len(word)+1))\n",
    "plt.title(\"SVD\")\n",
    "plt.colorbar()\n",
    "plt.show()"
   ]
  },
  {
   "cell_type": "code",
   "execution_count": 18,
   "id": "de92d887-c614-4086-af27-0d8c48956dda",
   "metadata": {},
   "outputs": [
    {
     "data": {
      "text/html": [
       "<div>\n",
       "<style scoped>\n",
       "    .dataframe tbody tr th:only-of-type {\n",
       "        vertical-align: middle;\n",
       "    }\n",
       "\n",
       "    .dataframe tbody tr th {\n",
       "        vertical-align: top;\n",
       "    }\n",
       "\n",
       "    .dataframe thead th {\n",
       "        text-align: right;\n",
       "    }\n",
       "</style>\n",
       "<table border=\"1\" class=\"dataframe\">\n",
       "  <thead>\n",
       "    <tr style=\"text-align: right;\">\n",
       "      <th></th>\n",
       "      <th>0</th>\n",
       "    </tr>\n",
       "  </thead>\n",
       "  <tbody>\n",
       "    <tr>\n",
       "      <th>ice</th>\n",
       "      <td>0.221826</td>\n",
       "    </tr>\n",
       "    <tr>\n",
       "      <th>snow</th>\n",
       "      <td>-0.583335</td>\n",
       "    </tr>\n",
       "    <tr>\n",
       "      <th>sunny</th>\n",
       "      <td>-0.466475</td>\n",
       "    </tr>\n",
       "    <tr>\n",
       "      <th>hot</th>\n",
       "      <td>0.626829</td>\n",
       "    </tr>\n",
       "  </tbody>\n",
       "</table>\n",
       "</div>"
      ],
      "text/plain": [
       "              0\n",
       "ice    0.221826\n",
       "snow  -0.583335\n",
       "sunny -0.466475\n",
       "hot    0.626829"
      ]
     },
     "execution_count": 18,
     "metadata": {},
     "output_type": "execute_result"
    }
   ],
   "source": [
    "pd.DataFrame(U[:,1],index=word)"
   ]
  },
  {
   "cell_type": "markdown",
   "id": "228324e2-9af2-4b51-9fe4-8137d42e296a",
   "metadata": {},
   "source": [
    "Singular value Decomposition plot."
   ]
  }
 ],
 "metadata": {
  "kernelspec": {
   "display_name": "Python 3 (ipykernel)",
   "language": "python",
   "name": "python3"
  },
  "language_info": {
   "codemirror_mode": {
    "name": "ipython",
    "version": 3
   },
   "file_extension": ".py",
   "mimetype": "text/x-python",
   "name": "python",
   "nbconvert_exporter": "python",
   "pygments_lexer": "ipython3",
   "version": "3.12.4"
  }
 },
 "nbformat": 4,
 "nbformat_minor": 5
}
