{
 "cells": [
  {
   "cell_type": "code",
   "execution_count": 1,
   "id": "5990614e-41bd-4007-aa66-971c0e3a33b4",
   "metadata": {},
   "outputs": [],
   "source": [
    "import numpy as np\n",
    "import pandas as pd\n",
    "import matplotlib.pyplot as plt\n",
    "import seaborn as sns\n",
    "from sklearn import datasets\n",
    "from sklearn.model_selection import train_test_split"
   ]
  },
  {
   "cell_type": "code",
   "execution_count": 3,
   "id": "48a329ee-110a-415f-992d-2a423d685be4",
   "metadata": {},
   "outputs": [],
   "source": [
    "bc=datasets.load_breast_cancer()\n",
    "X=bc.data\n",
    "y=bc.target"
   ]
  },
  {
   "cell_type": "code",
   "execution_count": 5,
   "id": "1174d40d-7c39-434c-8848-e40547b24175",
   "metadata": {},
   "outputs": [],
   "source": [
    "X_train,X_test,y_train,y_test=train_test_split(X,y,test_size=0.3,random_state=0,stratify=y)"
   ]
  },
  {
   "cell_type": "code",
   "execution_count": 7,
   "id": "8d6b5d01-c381-4ba7-8d7e-90726eebc2ae",
   "metadata": {},
   "outputs": [],
   "source": [
    "class CustomPerceptron(object):\n",
    "\n",
    "    def __init__(self,n_iterations=1000,random_state=1,learning_rate=0.01):\n",
    "        self.n_iterations=n_iterations\n",
    "        self.random_state=random_state\n",
    "        self.learning_rate=learning_rate\n",
    "\n",
    "def fit(self,X,y):\n",
    "    rgen=np.random.RandomState(self.random_state)\n",
    "    self.coef_=rgen.normal(loc=0.0,scale=0.01,size=1+X.shape[1])\n",
    "    for _ in range(self.n_iterations):\n",
    "        for xi,expected_value in zip(X,y):\n",
    "            predicted_value=self.predict(xi)\n",
    "            self.coef_[1]+=self.learning_rate*(expected_value-predicted_value)*xi\n",
    "            self_coef_[0]+=self.learning_rate*(expected_value-predicted_value)*1\n",
    "\n",
    "def activation(self,X):\n",
    "    return np.dot(X,self.coef_[1])+self.coef_[0]\n",
    "\n",
    "def predict(self,X):\n",
    "    output=self.activation(X)\n",
    "    return np.where(op>=0.0,1,0)\n",
    "\n",
    "def score(self,X,y):\n",
    "    misclassified_data_count=0\n",
    "    for xi,target in zip(X,y):\n",
    "        output=self.predict(xi)\n",
    "        if(target!=output):\n",
    "            misclassified_data_count+=1\n",
    "            total_data_count=len(X)\n",
    "            self_score=(total_data_count-misclassified_data_count)/total_data_count\n",
    "            return self.score_      "
   ]
  },
  {
   "cell_type": "code",
   "execution_count": 9,
   "id": "c4f4fa82-e9b9-4a0a-8a8b-051132e2cd24",
   "metadata": {},
   "outputs": [],
   "source": [
    "n_iterations=1000\n",
    "learning_rate=0.01"
   ]
  },
  {
   "cell_type": "code",
   "execution_count": 11,
   "id": "b7a2457e-ec0c-4d25-b262-98d37087cc37",
   "metadata": {},
   "outputs": [
    {
     "name": "stdout",
     "output_type": "stream",
     "text": [
      "[[1.320e+01 1.743e+01 8.413e+01 ... 4.970e-02 2.767e-01 7.198e-02]\n",
      " [1.122e+01 3.381e+01 7.079e+01 ... 3.002e-02 2.911e-01 7.307e-02]\n",
      " [1.454e+01 2.754e+01 9.673e+01 ... 1.712e-01 4.218e-01 1.341e-01]\n",
      " ...\n",
      " [1.106e+01 1.496e+01 7.149e+01 ... 1.075e-01 3.301e-01 9.080e-02]\n",
      " [1.199e+01 2.489e+01 7.761e+01 ... 1.202e-01 2.599e-01 8.251e-02]\n",
      " [1.239e+01 1.748e+01 8.064e+01 ... 9.804e-02 2.819e-01 1.118e-01]] [1 1 0 1 0 1 0 1 1 1 1 1 1 1 0 0 0 0 1 1 0 1 0 1 0 1 1 1 0 0 1 1 0 1 1 0 0\n",
      " 1 1 1 1 1 1 0 1 0 1 1 1 1 0 1 1 0 1 1 1 1 1 0 1 1 1 1 1 1 1 1 1 1 1 1 1 0\n",
      " 0 1 1 1 1 1 0 0 1 1 1 1 0 1 1 0 0 1 0 0 0 1 1 1 1 0 1 0 0 1 1 1 0 0 0 1 1\n",
      " 1 0 1 0 1 1 0 1 1 0 0 0 0 1 0 1 1 1 1 1 1 1 0 0 1 0 1 0 1 1 1 0 0 0 1 0 0\n",
      " 1 1 1 0 1 1 0 0 1 1 0 1 1 0 0 0 0 1 1 1 1 0 1 1 1 1 1 0 1 0 0 1 0 1 1 1 1\n",
      " 0 1 1 1 0 0 0 0 0 0 1 0 1 1 1 0 1 1 1 1 1 0 0 0 0 1 1 1 1 0 0 0 1 1 1 1 1\n",
      " 1 0 1 1 0 0 1 1 0 0 0 0 1 1 1 1 0 1 0 0 1 1 1 0 1 0 0 1 1 1 1 1 0 1 1 1 1\n",
      " 0 1 1 1 1 0 1 1 1 1 1 0 1 0 1 1 1 1 1 1 0 1 1 0 1 0 0 0 0 1 1 1 1 1 1 0 0\n",
      " 1 0 0 1 0 1 0 0 1 1 1 0 1 0 0 1 1 1 0 0 0 0 0 1 0 0 1 1 1 1 0 0 1 0 0 1 0\n",
      " 1 1 1 1 0 1 1 0 1 1 0 1 1 1 1 0 1 1 1 0 1 1 0 0 1 1 0 1 0 0 1 1 1 0 1 1 0\n",
      " 1 1 1 1 1 0 0 1 1 1 0 1 0 1 1 1 0 0 1 0 1 1 1 0 1 1 1 1]\n"
     ]
    }
   ],
   "source": [
    "print(X_train,y_train)"
   ]
  },
  {
   "cell_type": "code",
   "execution_count": 13,
   "id": "c06509a1-a219-40d0-990f-f346b6c9c47f",
   "metadata": {},
   "outputs": [
    {
     "name": "stdout",
     "output_type": "stream",
     "text": [
      "[[1.708e+01 2.715e+01 1.112e+02 ... 1.555e-01 3.010e-01 9.060e-02]\n",
      " [1.277e+01 2.247e+01 8.172e+01 ... 9.331e-02 2.829e-01 8.067e-02]\n",
      " [1.425e+01 2.215e+01 9.642e+01 ... 1.785e-01 2.844e-01 1.132e-01]\n",
      " ...\n",
      " [1.300e+01 2.078e+01 8.351e+01 ... 6.296e-02 3.196e-01 6.435e-02]\n",
      " [1.481e+01 1.470e+01 9.466e+01 ... 7.955e-02 2.334e-01 6.142e-02]\n",
      " [9.720e+00 1.822e+01 6.073e+01 ... 0.000e+00 1.909e-01 6.559e-02]] [0 0 0 1 0 1 0 0 0 0 0 1 1 1 0 0 0 1 0 0 1 1 1 0 0 0 1 0 1 0 0 1 0 1 1 1 1\n",
      " 0 1 0 0 0 1 0 1 0 0 1 1 1 1 0 1 0 1 1 1 1 1 1 1 1 0 0 1 1 0 0 0 1 1 0 1 1\n",
      " 1 1 1 0 0 1 1 1 1 0 1 1 0 0 0 0 1 1 1 1 1 0 0 1 0 0 1 1 1 0 1 0 1 0 1 1 1\n",
      " 0 0 1 1 1 1 0 1 1 1 1 1 1 0 1 1 1 1 1 1 1 1 1 0 1 1 1 0 0 1 0 1 0 1 0 1 1\n",
      " 1 1 1 1 1 1 0 1 1 1 1 1 0 1 1 1 0 1 1 0 1 1 1]\n"
     ]
    }
   ],
   "source": [
    "print(X_test,y_test)"
   ]
  },
  {
   "cell_type": "markdown",
   "id": "0cfd6fe2-ea11-4e65-9404-b1fe46a5b810",
   "metadata": {},
   "source": [
    "X_train,y_train,X_test,y_test are shown in this matrix is exponentially and in the form of 0 & 1."
   ]
  }
 ],
 "metadata": {
  "kernelspec": {
   "display_name": "Python 3 (ipykernel)",
   "language": "python",
   "name": "python3"
  },
  "language_info": {
   "codemirror_mode": {
    "name": "ipython",
    "version": 3
   },
   "file_extension": ".py",
   "mimetype": "text/x-python",
   "name": "python",
   "nbconvert_exporter": "python",
   "pygments_lexer": "ipython3",
   "version": "3.12.4"
  }
 },
 "nbformat": 4,
 "nbformat_minor": 5
}
